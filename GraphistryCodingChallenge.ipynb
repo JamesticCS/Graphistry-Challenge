{
 "cells": [
  {
   "cell_type": "markdown",
   "id": "7e43c68e-f16d-4b35-9972-1f9c135d3154",
   "metadata": {},
   "source": [
    "# Graphistry AI Cybersecurity Analysis Challenge\n",
    "**Author**: Jesse Hines\n",
    "\n",
    "**Date**: December 2024\n",
    "\n",
    "This notebook implements a solution for tracing the spread of potential security compromises through a network by analyzing user-computer interactions found in the associated access_logs.csv and activity_logs.csv\n"
   ]
  },
  {
   "cell_type": "code",
   "execution_count": 14,
   "id": "cbf9eaf9-f5e7-47a5-8420-7bec184f3f4f",
   "metadata": {},
   "outputs": [],
   "source": [
    "# Imports\n",
    "import pandas as pd\n",
    "from collections import deque, defaultdict\n",
    "from datetime import datetime"
   ]
  },
  {
   "cell_type": "code",
   "execution_count": 15,
   "id": "1ecf78e5-a7c6-4411-9ad8-3a8528dbf0fc",
   "metadata": {},
   "outputs": [],
   "source": [
    "# Process the Interactions\n",
    "access_logs = pd.read_csv(\"access_logs.csv\")\n",
    "activity_logs = pd.read_csv(\"activity_logs.csv\")\n"
   ]
  },
  {
   "cell_type": "markdown",
   "id": "1d2923b0-89a2-4685-8fac-3ab4e9487f39",
   "metadata": {},
   "source": [
    "## Solution Approach\n",
    "\n",
    "The solution uses a Breadth-First Search (BFS) algorithm to trace the spread of potential compromise through the network. The below SecurityAnalyzer class has this implemented in the analyze_compromise along with additional helper functions for \n",
    "\n",
    "1. Start at suspicious user (In this case we start with U1)\n",
    "2. Find all computers they accessed\n",
    "3. Find all users who accessed those computers\n",
    "4. Repeat until no new connections found\n",
    "\n",
    "One important thing to note is that in a \"real world\" scenario, users who accessed a computer before the current suspicious user (according to the timestamps given in access_logs.csv and activity_logs.csv) would likely not be counted. For simplicity, this algorithm tracks all users but could be modified to account for this if we wanted to. We co\n",
    "\n",
    "To put this in terms of code, analyze_compromise initializes with a deque containing the starting user and empty sets to track visited nodes. While the queue is not empty, we remove and process the next user in line. For each user, we query the activity logs to find all computers they've accessed. For each of these computers, we then query the access logs to find all other users who accessed that computer. Any newly discovered users are added to the queue for processing, ensuring we traverse the entire connected network.\n",
    "\n",
    "### Time Complexity\n",
    "- O(V + E) where:\n",
    "  - V = number of vertices (users + computers)\n",
    "  - E = number of edges (interactions between users and computers)\n",
    "\n",
    "### Space Complexity\n",
    "- O(V + E) for storing visited sets and queue, along with the dictionaries for logging"
   ]
  },
  {
   "cell_type": "code",
   "execution_count": 16,
   "id": "c9e09494-b1d0-4ba9-81d1-dcbe8da94ce2",
   "metadata": {},
   "outputs": [],
   "source": [
    "class SecurityAnalyzer:\n",
    "    def __init__(self, access_logs_df, activity_logs_df):\n",
    "        self.access_logs = access_logs_df\n",
    "        self.activity_logs = activity_logs_df\n",
    "        self.visited_users = set()\n",
    "        self.visited_computers = set()\n",
    "        self.event_log = []\n",
    "        self.affected_users = set()\n",
    "        self.affected_computers = set()\n",
    "        \n",
    "        # Preprocessing: Build dictionaries for fast lookups\n",
    "        self.user_to_computers = defaultdict(list)\n",
    "        self.computer_activities = defaultdict(list)\n",
    "        self.computer_to_users = defaultdict(list)\n",
    "        \n",
    "        for _, row in self.activity_logs.iterrows():\n",
    "            self.user_to_computers[row['user_id']].append(row['computer_id'])\n",
    "    \n",
    "        for _, row in self.access_logs.iterrows():\n",
    "            self.computer_activities[row['computer_id']].append((row['affected_user_id'], row['activity_type']))\n",
    "            self.computer_to_users[row['computer_id']].append(row['affected_user_id'])\n",
    "        \n",
    "    # performs BFS to trace users affected by the suspicious user’s activities\n",
    "    def analyze_compromise(self, initial_user):\n",
    "        \"\"\"Perform breadth-first analysis of compromise spread\"\"\"\n",
    "        queue = deque([initial_user])\n",
    "        self.visited_users.add(initial_user)\n",
    "        self.affected_users.add(initial_user)\n",
    "        \n",
    "        self.event_log.append(f\"Analysis started with suspicious user {initial_user}\")\n",
    "        \n",
    "        while queue:\n",
    "            current_user = queue.popleft()\n",
    "            self.event_log.append(f\"Processing user: {current_user}\")\n",
    "            \n",
    "            user_computers = self.user_to_computers.get(current_user, [])\n",
    "            \n",
    "            for computer in user_computers:\n",
    "                if computer not in self.visited_computers:\n",
    "                    self.visited_computers.add(computer)\n",
    "                    self.affected_computers.add(computer)\n",
    "                    self.event_log.append(f\"User {current_user} accessed computer {computer}\")\n",
    "                    \n",
    "                    self.event_log.append(f\"Activities on computer {computer}:\")\n",
    "                    for (affected_user_id, activity_type) in self.computer_activities.get(computer, []):\n",
    "                        self.event_log.append(f\"  - {activity_type} by user {affected_user_id}\")\n",
    "                    \n",
    "                    users_on_computer = self.computer_to_users.get(computer, [])\n",
    "                    for user in users_on_computer:\n",
    "                        if user not in self.visited_users:\n",
    "                            self.affected_users.add(user)\n",
    "                            self.visited_users.add(user)\n",
    "                            queue.append(user)\n",
    "                            self.event_log.append(f\"Computer {computer} affected user {user}\")\n",
    "   \n",
    "    # saves the event log and summary of the analysis to files.\n",
    "    def save_outputs(self):\n",
    "        \"\"\"Save analysis results to files\"\"\"\n",
    "        # Save event log\n",
    "        with open(\"investigation_log.txt\", \"w\") as f:\n",
    "            f.write(\"\\n\".join(self.event_log))\n",
    "        \n",
    "        # Save summary\n",
    "        summary_data = {\n",
    "            \"Metric\": [\n",
    "                \"Total Affected Users\",\n",
    "                \"Total Affected Computers\",\n",
    "            ],\n",
    "            \"Value\": [\n",
    "                len(self.affected_users),\n",
    "                len(self.affected_computers),\n",
    "            ]\n",
    "        }\n",
    "        pd.DataFrame(summary_data).to_csv(\"analysis_summary.csv\", index=False)\n"
   ]
  },
  {
   "cell_type": "markdown",
   "id": "4138a5ce-b4b5-4bcb-85c9-baba3c4d3ac2",
   "metadata": {},
   "source": [
    "Now using this class we are able to run our analysis\n",
    "\n",
    "Note: While the access logs contain different activity types (LOGIN_FAILURE, FILE_DOWNLOAD, UNAUTHORIZED_ACCESS, etc.), we only use these for logging purposes. Affected users are anyone who had any interaction with a computer that an affected user accessed (or the inital user themselves)"
   ]
  },
  {
   "cell_type": "code",
   "execution_count": 17,
   "id": "bcca6cde-b9e4-4717-890a-26cd294bd652",
   "metadata": {},
   "outputs": [
    {
     "name": "stdout",
     "output_type": "stream",
     "text": [
      "\n",
      "Final Summary:\n",
      "Total Affected Users: 100\n",
      "Total Affected Computers: 50\n",
      "\n",
      "Results have been saved to:\n",
      "- investigation_log.txt (detailed event log)\n",
      "- analysis_summary.csv (summary statistics)\n"
     ]
    }
   ],
   "source": [
    "# Initialize analyzer and run analysis\n",
    "analyzer = SecurityAnalyzer(access_logs, activity_logs)\n",
    "analyzer.analyze_compromise(\"U1\")\n",
    "\n",
    "# Save results\n",
    "analyzer.save_outputs()\n",
    "\n",
    "# Display summary\n",
    "print(\"\\nFinal Summary:\")\n",
    "print(f\"Total Affected Users: {len(analyzer.affected_users)}\")\n",
    "print(f\"Total Affected Computers: {len(analyzer.affected_computers)}\")\n",
    "print(\"\\nResults have been saved to:\")\n",
    "print(\"- investigation_log.txt (detailed event log)\")\n",
    "print(\"- analysis_summary.csv (summary statistics)\")\n",
    "\n"
   ]
  },
  {
   "cell_type": "code",
   "execution_count": null,
   "id": "a88df398-a83c-4506-a597-a90c8fe0786b",
   "metadata": {},
   "outputs": [],
   "source": []
  }
 ],
 "metadata": {
  "kernelspec": {
   "display_name": "Python 3 (ipykernel)",
   "language": "python",
   "name": "python3"
  },
  "language_info": {
   "codemirror_mode": {
    "name": "ipython",
    "version": 3
   },
   "file_extension": ".py",
   "mimetype": "text/x-python",
   "name": "python",
   "nbconvert_exporter": "python",
   "pygments_lexer": "ipython3",
   "version": "3.9.6"
  }
 },
 "nbformat": 4,
 "nbformat_minor": 5
}
